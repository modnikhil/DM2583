{
 "cells": [
  {
   "cell_type": "markdown",
   "metadata": {},
   "source": [
    "#  Using Support Vector Machines for Sentiment Analysis Processing\n"
   ]
  },
  {
   "cell_type": "markdown",
   "metadata": {},
   "source": [
    "# Python Data Clean up\n",
    "![](data/parsing_code.png)"
   ]
  },
  {
   "cell_type": "markdown",
   "metadata": {},
   "source": [
    "# Feature Extraction\n",
    "![](data/feature_extraction.png)\n",
    "\n",
    "* SMOTE Function:\n"
   ]
  },
  {
   "cell_type": "markdown",
   "metadata": {},
   "source": [
    "# Evaluation"
   ]
  },
  {
   "cell_type": "markdown",
   "metadata": {},
   "source": [
    "At first, our accuracy was pretty high. But, it was not very precise, as it classified all reviews as positive. We noticed that this was happening because the training and testing data was unbalanced. It had a lot more positive classifications than negative, which caused for a favoring of 'positive'. Becacuse of this unbalancing, we decided to use SMOTE. After this, our accuracy rose. Now, our classifier classified at least some reviews to be negative.But, now we decided to compare between vectorizers. We tried using Multilablel Binarizer, CountVectorizer, and HashVectorizer. MultilabelBinarizer had an accuracy of 71%, CountVecotorizer of 66%, and HashVectorizer of 76%."
   ]
  },
  {
   "cell_type": "markdown",
   "metadata": {},
   "source": [
    "# Results\n",
    "\n",
    "***Using Multilabel Binarizer (71% accuracy)***\n",
    "![](data/multilabel_bin.PNG)\n",
    "***Using Count Vectorizer (66% accuracy)***\n",
    "![](data/count_vectorizer.png)\n",
    "***Using Hash Vectorizer (76% accuracy)***\n",
    "![](data/hash_vectorizer.PNG)"
   ]
  }
 ],
 "metadata": {
  "kernelspec": {
   "display_name": "Python 3",
   "language": "python",
   "name": "python3"
  },
  "language_info": {
   "codemirror_mode": {
    "name": "ipython",
    "version": 3
   },
   "file_extension": ".py",
   "mimetype": "text/x-python",
   "name": "python",
   "nbconvert_exporter": "python",
   "pygments_lexer": "ipython3",
   "version": "3.7.0"
  }
 },
 "nbformat": 4,
 "nbformat_minor": 2
}
